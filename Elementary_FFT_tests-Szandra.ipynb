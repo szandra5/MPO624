{
 "cells": [
  {
   "cell_type": "markdown",
   "metadata": {},
   "source": [
    "# This notebook does Fourier analysis of y(x)\n",
    "\n",
    "### Work in a pylab session: clean, basic tools"
   ]
  },
  {
   "cell_type": "code",
   "execution_count": 7,
   "metadata": {
    "collapsed": false
   },
   "outputs": [
    {
     "name": "stdout",
     "output_type": "stream",
     "text": [
      "Populating the interactive namespace from numpy and matplotlib\n"
     ]
    }
   ],
   "source": [
    "# This magic line loads numpy, scipy, matplotlib. \n",
    "# add the word inline to put figures inline\n",
    "%pylab inline\n",
    "import scipy.io \n",
    "\n",
    "# xkcd style?\n",
    "#plt.xkcd();"
   ]
  },
  {
   "cell_type": "markdown",
   "metadata": {},
   "source": [
    "## Experiment with specifying y(x)..."
   ]
  },
  {
   "cell_type": "code",
   "execution_count": 8,
   "metadata": {
    "collapsed": false
   },
   "outputs": [
    {
     "ename": "IOError",
     "evalue": "[Errno 2] No such file or directory: '/home/szandra/HRC08_nino34_idx.mat'",
     "output_type": "error",
     "traceback": [
      "\u001b[0;31m---------------------------------------------------------------------------\u001b[0m",
      "\u001b[0;31mIOError\u001b[0m                                   Traceback (most recent call last)",
      "\u001b[0;32m<ipython-input-8-81e96a519a85>\u001b[0m in \u001b[0;36m<module>\u001b[0;34m()\u001b[0m\n\u001b[1;32m      1\u001b[0m \u001b[0;31m# Load data\u001b[0m\u001b[0;34m\u001b[0m\u001b[0;34m\u001b[0m\u001b[0m\n\u001b[0;32m----> 2\u001b[0;31m \u001b[0mnino34_file\u001b[0m \u001b[0;34m=\u001b[0m \u001b[0mscipy\u001b[0m\u001b[0;34m.\u001b[0m\u001b[0mio\u001b[0m\u001b[0;34m.\u001b[0m\u001b[0mloadmat\u001b[0m\u001b[0;34m(\u001b[0m\u001b[0;34m'/home/szandra/HRC08_nino34_idx.mat'\u001b[0m\u001b[0;34m)\u001b[0m\u001b[0;34m\u001b[0m\u001b[0m\n\u001b[0m\u001b[1;32m      3\u001b[0m \u001b[0mx\u001b[0m \u001b[0;34m=\u001b[0m \u001b[0mnino34_file\u001b[0m\u001b[0;34m.\u001b[0m\u001b[0mget\u001b[0m\u001b[0;34m(\u001b[0m\u001b[0;34m'nino34'\u001b[0m\u001b[0;34m)\u001b[0m \u001b[0;31m# this is x, a numpy array\u001b[0m\u001b[0;34m\u001b[0m\u001b[0m\n\u001b[1;32m      4\u001b[0m \u001b[0my\u001b[0m \u001b[0;34m=\u001b[0m \u001b[0msin\u001b[0m\u001b[0;34m(\u001b[0m\u001b[0;36m3\u001b[0m\u001b[0;34m*\u001b[0m\u001b[0mx\u001b[0m\u001b[0;34m)\u001b[0m \u001b[0;34m+\u001b[0m \u001b[0;36m2\u001b[0m\u001b[0;34m*\u001b[0m\u001b[0mcos\u001b[0m\u001b[0;34m(\u001b[0m\u001b[0;36m4\u001b[0m\u001b[0;34m*\u001b[0m\u001b[0mx\u001b[0m\u001b[0;34m)\u001b[0m \u001b[0;34m+\u001b[0m \u001b[0msin\u001b[0m\u001b[0;34m(\u001b[0m\u001b[0;36m5\u001b[0m\u001b[0;34m*\u001b[0m\u001b[0mx\u001b[0m\u001b[0;34m)\u001b[0m \u001b[0;34m+\u001b[0m \u001b[0msin\u001b[0m\u001b[0;34m(\u001b[0m\u001b[0;36m6\u001b[0m\u001b[0;34m*\u001b[0m\u001b[0mx\u001b[0m\u001b[0;34m)\u001b[0m \u001b[0;34m+\u001b[0m \u001b[0msin\u001b[0m\u001b[0;34m(\u001b[0m\u001b[0;36m7\u001b[0m\u001b[0;34m*\u001b[0m\u001b[0mx\u001b[0m\u001b[0;34m)\u001b[0m \u001b[0;34m+\u001b[0m \u001b[0;36m1\u001b[0m\u001b[0;34m\u001b[0m\u001b[0m\n\u001b[1;32m      5\u001b[0m \u001b[0;34m\u001b[0m\u001b[0m\n",
      "\u001b[0;32m/Users/szandra/Library/Enthought/Canopy_64bit/User/lib/python2.7/site-packages/scipy/io/matlab/mio.pyc\u001b[0m in \u001b[0;36mloadmat\u001b[0;34m(file_name, mdict, appendmat, **kwargs)\u001b[0m\n\u001b[1;32m    132\u001b[0m     \"\"\"\n\u001b[1;32m    133\u001b[0m     \u001b[0mvariable_names\u001b[0m \u001b[0;34m=\u001b[0m \u001b[0mkwargs\u001b[0m\u001b[0;34m.\u001b[0m\u001b[0mpop\u001b[0m\u001b[0;34m(\u001b[0m\u001b[0;34m'variable_names'\u001b[0m\u001b[0;34m,\u001b[0m \u001b[0mNone\u001b[0m\u001b[0;34m)\u001b[0m\u001b[0;34m\u001b[0m\u001b[0m\n\u001b[0;32m--> 134\u001b[0;31m     \u001b[0mMR\u001b[0m \u001b[0;34m=\u001b[0m \u001b[0mmat_reader_factory\u001b[0m\u001b[0;34m(\u001b[0m\u001b[0mfile_name\u001b[0m\u001b[0;34m,\u001b[0m \u001b[0mappendmat\u001b[0m\u001b[0;34m,\u001b[0m \u001b[0;34m**\u001b[0m\u001b[0mkwargs\u001b[0m\u001b[0;34m)\u001b[0m\u001b[0;34m\u001b[0m\u001b[0m\n\u001b[0m\u001b[1;32m    135\u001b[0m     \u001b[0mmatfile_dict\u001b[0m \u001b[0;34m=\u001b[0m \u001b[0mMR\u001b[0m\u001b[0;34m.\u001b[0m\u001b[0mget_variables\u001b[0m\u001b[0;34m(\u001b[0m\u001b[0mvariable_names\u001b[0m\u001b[0;34m)\u001b[0m\u001b[0;34m\u001b[0m\u001b[0m\n\u001b[1;32m    136\u001b[0m     \u001b[0;32mif\u001b[0m \u001b[0mmdict\u001b[0m \u001b[0;32mis\u001b[0m \u001b[0;32mnot\u001b[0m \u001b[0mNone\u001b[0m\u001b[0;34m:\u001b[0m\u001b[0;34m\u001b[0m\u001b[0m\n",
      "\u001b[0;32m/Users/szandra/Library/Enthought/Canopy_64bit/User/lib/python2.7/site-packages/scipy/io/matlab/mio.pyc\u001b[0m in \u001b[0;36mmat_reader_factory\u001b[0;34m(file_name, appendmat, **kwargs)\u001b[0m\n\u001b[1;32m     55\u001b[0m        \u001b[0mtype\u001b[0m \u001b[0mdetected\u001b[0m \u001b[0;32min\u001b[0m \u001b[0;34m`\u001b[0m\u001b[0mfilename\u001b[0m\u001b[0;34m`\u001b[0m\u001b[0;34m.\u001b[0m\u001b[0;34m\u001b[0m\u001b[0m\n\u001b[1;32m     56\u001b[0m     \"\"\"\n\u001b[0;32m---> 57\u001b[0;31m     \u001b[0mbyte_stream\u001b[0m \u001b[0;34m=\u001b[0m \u001b[0m_open_file\u001b[0m\u001b[0;34m(\u001b[0m\u001b[0mfile_name\u001b[0m\u001b[0;34m,\u001b[0m \u001b[0mappendmat\u001b[0m\u001b[0;34m)\u001b[0m\u001b[0;34m\u001b[0m\u001b[0m\n\u001b[0m\u001b[1;32m     58\u001b[0m     \u001b[0mmjv\u001b[0m\u001b[0;34m,\u001b[0m \u001b[0mmnv\u001b[0m \u001b[0;34m=\u001b[0m \u001b[0mget_matfile_version\u001b[0m\u001b[0;34m(\u001b[0m\u001b[0mbyte_stream\u001b[0m\u001b[0;34m)\u001b[0m\u001b[0;34m\u001b[0m\u001b[0m\n\u001b[1;32m     59\u001b[0m     \u001b[0;32mif\u001b[0m \u001b[0mmjv\u001b[0m \u001b[0;34m==\u001b[0m \u001b[0;36m0\u001b[0m\u001b[0;34m:\u001b[0m\u001b[0;34m\u001b[0m\u001b[0m\n",
      "\u001b[0;32m/Users/szandra/Library/Enthought/Canopy_64bit/User/lib/python2.7/site-packages/scipy/io/matlab/mio.pyc\u001b[0m in \u001b[0;36m_open_file\u001b[0;34m(file_like, appendmat)\u001b[0m\n\u001b[1;32m     21\u001b[0m     \u001b[0;32mif\u001b[0m \u001b[0misinstance\u001b[0m\u001b[0;34m(\u001b[0m\u001b[0mfile_like\u001b[0m\u001b[0;34m,\u001b[0m \u001b[0mstring_types\u001b[0m\u001b[0;34m)\u001b[0m\u001b[0;34m:\u001b[0m\u001b[0;34m\u001b[0m\u001b[0m\n\u001b[1;32m     22\u001b[0m         \u001b[0;32mtry\u001b[0m\u001b[0;34m:\u001b[0m\u001b[0;34m\u001b[0m\u001b[0m\n\u001b[0;32m---> 23\u001b[0;31m             \u001b[0;32mreturn\u001b[0m \u001b[0mopen\u001b[0m\u001b[0;34m(\u001b[0m\u001b[0mfile_like\u001b[0m\u001b[0;34m,\u001b[0m \u001b[0;34m'rb'\u001b[0m\u001b[0;34m)\u001b[0m\u001b[0;34m\u001b[0m\u001b[0m\n\u001b[0m\u001b[1;32m     24\u001b[0m         \u001b[0;32mexcept\u001b[0m \u001b[0mIOError\u001b[0m \u001b[0;32mas\u001b[0m \u001b[0me\u001b[0m\u001b[0;34m:\u001b[0m\u001b[0;34m\u001b[0m\u001b[0m\n\u001b[1;32m     25\u001b[0m             \u001b[0;32mif\u001b[0m \u001b[0mappendmat\u001b[0m \u001b[0;32mand\u001b[0m \u001b[0;32mnot\u001b[0m \u001b[0mfile_like\u001b[0m\u001b[0;34m.\u001b[0m\u001b[0mendswith\u001b[0m\u001b[0;34m(\u001b[0m\u001b[0;34m'.mat'\u001b[0m\u001b[0;34m)\u001b[0m\u001b[0;34m:\u001b[0m\u001b[0;34m\u001b[0m\u001b[0m\n",
      "\u001b[0;31mIOError\u001b[0m: [Errno 2] No such file or directory: '/home/szandra/HRC08_nino34_idx.mat'"
     ]
    }
   ],
   "source": [
    "# Load data\n",
    "nino34_file = scipy.io.loadmat('./HRC08_nino34_idx.mat')\n",
    "x = nino34_file.get('nino34') # this is x, a numpy array\n",
    "y = sin(3*x) + 2*cos(4*x) + sin(5*x) + sin(6*x) + sin(7*x) + 1\n",
    "\n",
    "# A square wave\n",
    "#y = sin(5*x) > 0\n",
    "\n",
    "# A sawooth wave\n",
    "#x = arange(300)\n",
    "#y = x % 60\n",
    "\n",
    "y = detrend(y) # this subtracts the mean"
   ]
  },
  {
   "cell_type": "markdown",
   "metadata": {},
   "source": [
    "## Plot the series, two copies"
   ]
  },
  {
   "cell_type": "code",
   "execution_count": null,
   "metadata": {
    "collapsed": false
   },
   "outputs": [],
   "source": [
    "# Plot it, repeated since Fourier analysis assumes that\n",
    "xx = concatenate((x, x+max(x)))\n",
    "yy = concatenate((y, y       ))\n",
    "\n",
    "# Plot the discrete values as dots '.', \n",
    "# connected by a dotted line ':'\n",
    "figure(1)\n",
    "plot(xx,yy,'o', label='raw')\n",
    "plot(xx,yy,':', label='raw')\n",
    "title('y data series, repeated');"
   ]
  },
  {
   "cell_type": "markdown",
   "metadata": {},
   "source": [
    "## SFT = Slow Fourier Transform (illustration)"
   ]
  },
  {
   "cell_type": "code",
   "execution_count": null,
   "metadata": {
    "collapsed": false
   },
   "outputs": [],
   "source": [
    "# Slow Fourier transform: mean of product of sin() and data\n",
    "figure(13, figsize=(8, 9))\n",
    "\n",
    "subplot(311)\n",
    "plot(xx,yy)\n",
    "title('The data, and one Fourier component')\n",
    "plot(xx, sin(4*xx))\n",
    "\n",
    "subplot(312)\n",
    "product = yy * sin(4*xx)\n",
    "plot(xx, product)\n",
    "title('The product of the two')\n",
    "\n",
    "subplot(313)\n",
    "plot(xx, cumsum(product)/len(product))\n",
    "title('Cumulation, to see the total of the product');"
   ]
  },
  {
   "cell_type": "markdown",
   "metadata": {},
   "source": [
    "## Make the complex spectrum, using fft\n",
    "...normalizing by input series length, since it makes no sense for the *values* of the spectrum in the plots to depend on sampling rate (and thus on N)"
   ]
  },
  {
   "cell_type": "code",
   "execution_count": null,
   "metadata": {
    "collapsed": false
   },
   "outputs": [],
   "source": [
    "N = len(y) \n",
    "spec = fft.fft(y) /N\n",
    "\n",
    "# Unpack in all the usual ways: real (cos) and imaginary (sin)\n",
    "specr = real(spec)\n",
    "speci = imag(spec)\n",
    "\n",
    "# Unpack in all the usual ways: amplitude and phase\n",
    "ampli = abs(spec)\n",
    "phase = angle(spec)"
   ]
  },
  {
   "cell_type": "code",
   "execution_count": null,
   "metadata": {
    "collapsed": false
   },
   "outputs": [],
   "source": []
  },
  {
   "cell_type": "markdown",
   "metadata": {},
   "source": [
    "## Plot real and imaginary parts\n",
    "Should be symmetric since the input is real. \n",
    "But the mean of the data is in wavenumber 0 of the real (cosine) part."
   ]
  },
  {
   "cell_type": "code",
   "execution_count": null,
   "metadata": {
    "collapsed": false
   },
   "outputs": [],
   "source": [
    "# Plot the real (blue) and imaginary (red) parts\n",
    "figure(2)\n",
    "#plot(specr,'bo', label='real')\n",
    "plot(specr,'b:', label='real') # lines connecting DISCRETE points \n",
    "#plot(speci,'ro', label='imag')\n",
    "plot(speci,'r:', label='imag') # lines are meaningless; for clarity\n",
    "title('Real and imaginary amplitudes: wave 0, and symmetry')\n",
    "legend(loc='best');"
   ]
  },
  {
   "cell_type": "markdown",
   "metadata": {},
   "source": [
    "### Plot amplitude or *power* (amplitude squared) and phase\n",
    "Should be symmetric since the input is real. \n",
    "But the mean of the data is in wavenumber 0 of the real (cosine) part."
   ]
  },
  {
   "cell_type": "code",
   "execution_count": null,
   "metadata": {
    "collapsed": false
   },
   "outputs": [],
   "source": [
    "# Plot the amplitude and phase\n",
    "figure(3)\n",
    "\n",
    "subplot(211)\n",
    "plot(ampli,'bo'); \n",
    "plot(ampli,'b:'); \n",
    "title('Amplitude')\n",
    "\n",
    "subplot(212)\n",
    "plot(phase   ,'b*')\n",
    "title('Phase')\n",
    "xlabel('wavenumber');\n",
    "ylim([-pi,pi]);"
   ]
  },
  {
   "cell_type": "markdown",
   "metadata": {},
   "source": [
    "### Tidy up the symmetry and labels for a nicer Power spectrum plot"
   ]
  },
  {
   "cell_type": "code",
   "execution_count": null,
   "metadata": {
    "collapsed": false
   },
   "outputs": [],
   "source": [
    "# TAKE JUST THE LEFT HALF OF THE SYMMETRIC SPECTRUM\n",
    "Wavenumbers = arange(N/2)\n",
    "\n",
    "# BUT DOUBLE THE VALUEs, other than wavenumber 0\n",
    "Amp2 = ampli[0:(N/2)] *2.\n",
    "Amp2[0] = 0\n",
    "\n",
    "# Now power spectrum density is amplitude squared\n",
    "# But actually only 0.5x that, since var(sin(x))=var(cos(x))=0.5\n",
    "Power = (Amp2**2) *0.5"
   ]
  },
  {
   "cell_type": "code",
   "execution_count": null,
   "metadata": {
    "collapsed": false
   },
   "outputs": [],
   "source": [
    "# Power spectral density plot\n",
    "figure(4)\n",
    "subplot(211)\n",
    "\n",
    "plot(Wavenumbers,Power ,'bo')\n",
    "plot(Wavenumbers,Power ,'b:')\n",
    "\n",
    "title('Power spectral density, subtracted mean '+str(ampli[0]))\n",
    "ylabel('variance per wavenumber');\n",
    "\n",
    "# Cumulative power graph\n",
    "CumWavenum  = concatenate(([-0.5],arange(N/2)+0.5))\n",
    "CumVar      = concatenate(([0],   cumsum(Power) ))\n",
    "                     \n",
    "subplot(212)\n",
    "plot(CumWavenum,CumVar,'ro')\n",
    "plot(CumWavenum,CumVar,'r')\n",
    "xlim([0.5,N/2])\n",
    "title('Cumulative variance')\n",
    "xlabel('Wavenumber (cycles per record length)')\n",
    "ylabel('Cumulative variance');"
   ]
  },
  {
   "cell_type": "code",
   "execution_count": null,
   "metadata": {
    "collapsed": false
   },
   "outputs": [],
   "source": [
    "figure(5)\n",
    "semilogx(CumWavenum,CumVar,'ro')\n",
    "semilogx(CumWavenum,CumVar,'r')\n",
    "xlim([0.5,N/2])\n",
    "title('Cumulative variance agrees with var(y)='+ str(var(y)))\n",
    "xlabel('Wavenumber (cycles per record length)')\n",
    "ylabel('Cumulative variance');"
   ]
  },
  {
   "cell_type": "code",
   "execution_count": null,
   "metadata": {
    "collapsed": false
   },
   "outputs": [],
   "source": [
    "print mean(y**2)\n",
    "print var(y)"
   ]
  },
  {
   "cell_type": "markdown",
   "metadata": {},
   "source": [
    "## Reconstruct (synthesize) data by meddling with phase. \n",
    "#### Notice that 1j is *i* in Python "
   ]
  },
  {
   "cell_type": "code",
   "execution_count": null,
   "metadata": {
    "collapsed": true
   },
   "outputs": [],
   "source": [
    "# Edit the spectrum's phase and amplitude:\n",
    "syn_ampli = ampli\n",
    "\n",
    "# Phase=0 gives the autocorrelation function\n",
    "syn_phase = phase*0; explabel = 'phase =0'\n",
    "\n",
    "# Phase = rand() makes synthetic data\n",
    "syn_phase = 2*pi*rand( len(phase) ); explabel = 'random phases'"
   ]
  },
  {
   "cell_type": "markdown",
   "metadata": {},
   "source": [
    "### Build spectrum and invert, from edited amplitude and phase"
   ]
  },
  {
   "cell_type": "code",
   "execution_count": null,
   "metadata": {
    "collapsed": false
   },
   "outputs": [],
   "source": [
    "# Build the synthetic spectrum from real and imaginary parts\n",
    "syn_spec =(    syn_ampli*cos(syn_phase)   #real part\n",
    "         + 1j* syn_ampli*sin(syn_phase) ) #imag part\n",
    "\n",
    "# Synthesize back into physical space (time domain) with ifft: \n",
    "# First, we have to rescale by N = len(y). \n",
    "# And there is a near-zero imaginary part; strip it off with real()\n",
    "syn_data = real( ifft(syn_spec)*N )"
   ]
  },
  {
   "cell_type": "markdown",
   "metadata": {},
   "source": [
    "### Display the synthetic data "
   ]
  },
  {
   "cell_type": "code",
   "execution_count": null,
   "metadata": {
    "collapsed": false
   },
   "outputs": [],
   "source": [
    "figure(6)\n",
    "plot(tile(syn_data,2),'o')\n",
    "plot(tile(syn_data,2),':')\n",
    "title('Synthesized from amplitude and phase (repeated 2x)');"
   ]
  },
  {
   "cell_type": "markdown",
   "metadata": {},
   "source": [
    "### Display the synthetic data on the raw data (Fig. 1)"
   ]
  },
  {
   "cell_type": "code",
   "execution_count": null,
   "metadata": {
    "collapsed": false
   },
   "outputs": [],
   "source": [
    "figure(1) # replot on top of the initial data plot (Fig. 1)\n",
    "plot(x,syn_data, label=explabel)\n",
    "legend(loc='best');"
   ]
  },
  {
   "cell_type": "code",
   "execution_count": null,
   "metadata": {
    "collapsed": false
   },
   "outputs": [],
   "source": []
  },
  {
   "cell_type": "code",
   "execution_count": null,
   "metadata": {
    "collapsed": true
   },
   "outputs": [],
   "source": []
  },
  {
   "cell_type": "code",
   "execution_count": null,
   "metadata": {
    "collapsed": true
   },
   "outputs": [],
   "source": []
  },
  {
   "cell_type": "code",
   "execution_count": null,
   "metadata": {
    "collapsed": true
   },
   "outputs": [],
   "source": []
  }
 ],
 "metadata": {
  "kernelspec": {
   "display_name": "Python 2",
   "language": "python",
   "name": "python2"
  },
  "language_info": {
   "codemirror_mode": {
    "name": "ipython",
    "version": 2
   },
   "file_extension": ".py",
   "mimetype": "text/x-python",
   "name": "python",
   "nbconvert_exporter": "python",
   "pygments_lexer": "ipython2",
   "version": "2.7.10"
  }
 },
 "nbformat": 4,
 "nbformat_minor": 0
}
